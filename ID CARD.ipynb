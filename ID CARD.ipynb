{
 "cells": [
  {
   "cell_type": "code",
   "execution_count": 1,
   "id": "442feb21",
   "metadata": {},
   "outputs": [],
   "source": [
    "#import libraries\n",
    "from PIL import Image, ImageDraw, ImageFont\n",
    "import random\n",
    "import os\n",
    "import datetime\n",
    "import qrcode"
   ]
  },
  {
   "cell_type": "code",
   "execution_count": 2,
   "id": "44006908",
   "metadata": {},
   "outputs": [],
   "source": [
    "#RGB-red blue green(combinations of three layers),(255, 255, 255)-> means white colour;\n",
    "image = Image.new('RGB', (1000,900), (255, 255, 255))\n",
    "draw = ImageDraw.Draw(image)"
   ]
  },
  {
   "cell_type": "code",
   "execution_count": 3,
   "id": "d9dc3056",
   "metadata": {},
   "outputs": [
    {
     "data": {
      "text/plain": [
       "1"
      ]
     },
     "execution_count": 3,
     "metadata": {},
     "output_type": "execute_result"
    }
   ],
   "source": [
    "#font type\n",
    "font = ImageFont.truetype('arial.ttf', size=45)\n",
    "os.system(\"ID CARD Generator\")"
   ]
  },
  {
   "cell_type": "code",
   "execution_count": 4,
   "id": "98eb188d",
   "metadata": {},
   "outputs": [
    {
     "name": "stdout",
     "output_type": "stream",
     "text": [
      "15-06-2023\t ID CARD Generator\t  01:59:14 PM\n"
     ]
    }
   ],
   "source": [
    "#creating id card with disply the current time:\n",
    "d_date = datetime.datetime.now()\n",
    "reg_format_date = d_date.strftime(\"%d-%m-%Y\\t ID CARD Generator\\t  %I:%M:%S %p\")\n",
    "print (reg_format_date)"
   ]
  },
  {
   "cell_type": "code",
   "execution_count": 5,
   "id": "6a9bec90",
   "metadata": {},
   "outputs": [
    {
     "name": "stdout",
     "output_type": "stream",
     "text": [
      "\n",
      "Enter Your Company Name: IBM\n"
     ]
    }
   ],
   "source": [
    "#company name\n",
    "(x, y) = (50, 50)\n",
    "message = input('\\nEnter Your Company Name: ')\n",
    "company=message\n",
    "color = 'rgb(0, 0, 0)'\n",
    "font = ImageFont.truetype('arial.ttf', size=80)\n",
    "draw.text((x, y), message, fill=color, font=font)"
   ]
  },
  {
   "cell_type": "code",
   "execution_count": 6,
   "id": "6d879582",
   "metadata": {},
   "outputs": [],
   "source": [
    "# adding an unique id number,userandom number\n",
    "(x, y) = (600, 75)\n",
    "idno=random.randint(10000000,90000000)\n",
    "message = str('ID '+str(idno))\n",
    "color = 'rgb(0, 0, 0)' # black color\n",
    "font = ImageFont.truetype('arial.ttf', size=40)\n",
    "draw.text((x, y), message, fill=color, font=font)"
   ]
  },
  {
   "cell_type": "code",
   "execution_count": 7,
   "id": "9768b34d",
   "metadata": {},
   "outputs": [
    {
     "name": "stdout",
     "output_type": "stream",
     "text": [
      "Enter Your Full Name: V.VEL\n"
     ]
    }
   ],
   "source": [
    "#name\n",
    "(x, y) = (50, 250)\n",
    "message = input('Enter Your Full Name: ')\n",
    "name=message\n",
    "color = 'rgb(0, 0, 0)' # black color\n",
    "font = ImageFont.truetype('arial.ttf', size=45)\n",
    "draw.text((x, y), message, fill=color, font=font)"
   ]
  },
  {
   "cell_type": "code",
   "execution_count": 8,
   "id": "a69d5c50",
   "metadata": {},
   "outputs": [
    {
     "name": "stdout",
     "output_type": "stream",
     "text": [
      "Enter Your Gender: MALE\n",
      "Enter Your Age: 35\n"
     ]
    }
   ],
   "source": [
    "#gender\n",
    "(x, y) = (50, 350)\n",
    "message = input('Enter Your Gender: ')\n",
    "color = 'rgb(0, 0, 0)' # black color \n",
    "draw.text((x, y), message, fill=color, font=font)\n",
    "#age\n",
    "(x, y) = (250, 350)\n",
    "message = input('Enter Your Age: ')\n",
    "color = 'rgb(0, 0, 0)' # black color \n",
    "draw.text((x, y), message, fill=color, font=font)\n",
    "\n"
   ]
  },
  {
   "cell_type": "code",
   "execution_count": 9,
   "id": "778de408",
   "metadata": {},
   "outputs": [
    {
     "name": "stdout",
     "output_type": "stream",
     "text": [
      "Enter Your Date Of Birth: 09/09/1988\n"
     ]
    }
   ],
   "source": [
    "\n",
    "#date of birth\n",
    "(x, y) = (50, 450)\n",
    "message = input('Enter Your Date Of Birth: ')\n",
    "color = 'rgb(0, 0, 0)' # black color \n",
    "draw.text((x, y), message, fill=color, font=font)"
   ]
  },
  {
   "cell_type": "code",
   "execution_count": 10,
   "id": "911a0328",
   "metadata": {},
   "outputs": [
    {
     "name": "stdout",
     "output_type": "stream",
     "text": [
      "Enter Your Blood Group: B+\n"
     ]
    }
   ],
   "source": [
    "\n",
    "#blood group\n",
    "(x, y) = (50, 550)\n",
    "message = input('Enter Your Blood Group: ')\n",
    "color = 'rgb(255, 0, 0)' # black color \n",
    "draw.text((x, y), message, fill=color, font=font)\n"
   ]
  },
  {
   "cell_type": "code",
   "execution_count": 11,
   "id": "f45bfac0",
   "metadata": {},
   "outputs": [
    {
     "name": "stdout",
     "output_type": "stream",
     "text": [
      "Enter Your Mobile Number: 8970678905\n"
     ]
    }
   ],
   "source": [
    "#mobilenumber\n",
    "(x, y) = (50, 650)\n",
    "message = input('Enter Your Mobile Number: ')\n",
    "temp=message\n",
    "color = 'rgb(0, 0, 0)' # black color \n",
    "draw.text((x, y), message, fill=color, font=font)"
   ]
  },
  {
   "cell_type": "code",
   "execution_count": 12,
   "id": "ee06400a",
   "metadata": {},
   "outputs": [
    {
     "name": "stdout",
     "output_type": "stream",
     "text": [
      "Enter Your Address: TAMILNADU\n"
     ]
    }
   ],
   "source": [
    "#address\n",
    "(x, y) = (50, 750)\n",
    "message = input('Enter Your Address: ')\n",
    "color = 'rgb(0, 0, 0)' # black color \n",
    "draw.text((x, y), message, fill=color, font=font)"
   ]
  },
  {
   "cell_type": "code",
   "execution_count": 15,
   "id": "0b8b1494",
   "metadata": {},
   "outputs": [],
   "source": [
    "#Create id card\n",
    "image.save(str(name)+'.png')"
   ]
  },
  {
   "cell_type": "code",
   "execution_count": 16,
   "id": "bf0d2bb8",
   "metadata": {},
   "outputs": [
    {
     "name": "stdout",
     "output_type": "stream",
     "text": [
      "\n",
      "\n",
      "\n",
      "Your ID Card Successfully created in a PNG file V.VEL.png\n"
     ]
    }
   ],
   "source": [
    "print(('\\n\\n\\nYour ID Card Successfully created in a PNG file '+name+'.png'))\n"
   ]
  },
  {
   "cell_type": "code",
   "execution_count": null,
   "id": "0674375c",
   "metadata": {},
   "outputs": [],
   "source": []
  },
  {
   "cell_type": "code",
   "execution_count": null,
   "id": "16dbee94",
   "metadata": {},
   "outputs": [],
   "source": []
  }
 ],
 "metadata": {
  "kernelspec": {
   "display_name": "Python 3 (ipykernel)",
   "language": "python",
   "name": "python3"
  },
  "language_info": {
   "codemirror_mode": {
    "name": "ipython",
    "version": 3
   },
   "file_extension": ".py",
   "mimetype": "text/x-python",
   "name": "python",
   "nbconvert_exporter": "python",
   "pygments_lexer": "ipython3",
   "version": "3.7.6"
  }
 },
 "nbformat": 4,
 "nbformat_minor": 5
}
